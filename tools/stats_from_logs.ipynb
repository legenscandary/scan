{
 "cells": [
  {
   "cell_type": "code",
   "execution_count": 1,
   "metadata": {},
   "outputs": [
    {
     "name": "stdout",
     "output_type": "stream",
     "text": [
      "m [1091.875, 1101.25, 1086.75, 1062.875, 1054.0833333333333, 1056.625]\n",
      "s [599.0, 910.5, 569.5, 671.5, 838.0, 493.5, 454.5, 647.5, 444.0]\n"
     ]
    }
   ],
   "source": [
    "import os, glob\n",
    "def docTiming(fn):\n",
    "    timing = []\n",
    "    with open(fn) as fd:\n",
    "        timing = [l for l in fd.readlines() if l.strip().startswith(\"Processed\")]\n",
    "    if len(timing):\n",
    "        timing = timing[0].split()\n",
    "        timing = int(timing[1]), int(timing[-1].rstrip('s.'))\n",
    "    return timing\n",
    "docLogs = sorted(glob.glob(os.path.join(\"log\", \"*\", \"doc.log\")))\n",
    "single, multi = [], [] # seconds per page in single or multi sheet mode\n",
    "for fn in docLogs:\n",
    "    timing = docTiming(fn)\n",
    "    if len(timing) < 2:\n",
    "        continue\n",
    "    npages, secs = timing\n",
    "    if npages > 2:\n",
    "        multi += (secs/npages,)\n",
    "    else:\n",
    "        single += (secs/npages,)\n",
    "    #print(npages, secs)\n",
    "print(\"m\", multi)\n",
    "print(\"s\", single)"
   ]
  },
  {
   "cell_type": "code",
   "execution_count": 33,
   "metadata": {},
   "outputs": [
    {
     "data": {
      "text/html": [
       "<div>\n",
       "<style scoped>\n",
       "    .dataframe tbody tr th:only-of-type {\n",
       "        vertical-align: middle;\n",
       "    }\n",
       "\n",
       "    .dataframe tbody tr th {\n",
       "        vertical-align: top;\n",
       "    }\n",
       "\n",
       "    .dataframe thead th {\n",
       "        text-align: right;\n",
       "    }\n",
       "</style>\n",
       "<table border=\"1\" class=\"dataframe\">\n",
       "  <thead>\n",
       "    <tr style=\"text-align: right;\">\n",
       "      <th></th>\n",
       "      <th>median (secs)</th>\n",
       "      <th>mean (secs)</th>\n",
       "      <th>± (secs)</th>\n",
       "      <th>#runs</th>\n",
       "    </tr>\n",
       "  </thead>\n",
       "  <tbody>\n",
       "    <tr>\n",
       "      <th>single sheet (2 pages)</th>\n",
       "      <td>599.0</td>\n",
       "      <td>625.3</td>\n",
       "      <td>153.6</td>\n",
       "      <td>9</td>\n",
       "    </tr>\n",
       "    <tr>\n",
       "      <th>multiple sheets</th>\n",
       "      <td>1074.8</td>\n",
       "      <td>1075.6</td>\n",
       "      <td>18.4</td>\n",
       "      <td>6</td>\n",
       "    </tr>\n",
       "  </tbody>\n",
       "</table>\n",
       "</div>"
      ],
      "text/plain": [
       "                        median (secs)  mean (secs)  ± (secs)  #runs\n",
       "single sheet (2 pages)          599.0        625.3     153.6      9\n",
       "multiple sheets                1074.8       1075.6      18.4      6"
      ]
     },
     "execution_count": 33,
     "metadata": {},
     "output_type": "execute_result"
    }
   ],
   "source": [
    "import numpy as np\n",
    "multi = np.array(multi)\n",
    "single = np.array(single)\n",
    "import pandas as pd\n",
    "pd.set_option('precision', 1)\n",
    "arrs    = (single, multi)\n",
    "indices = ('single sheet (2 pages)', 'multiple sheets')\n",
    "lst = []\n",
    "for arr in arrs:\n",
    "    lst.append({'median (secs)': np.median(arr), 'mean (secs)': arr.mean(),\n",
    "                '\\xb1 (secs)': arr.std(), '#runs': len(arr)})\n",
    "df = pd.DataFrame(lst, index=indices, columns=lst[0].keys())\n",
    "df"
   ]
  },
  {
   "cell_type": "code",
   "execution_count": 34,
   "metadata": {},
   "outputs": [
    {
     "name": "stdout",
     "output_type": "stream",
     "text": [
      "|                        |   median (secs) |   mean (secs) |   ± (secs) |   #runs |\n",
      "|:-----------------------|----------------:|--------------:|-----------:|--------:|\n",
      "| single sheet (2 pages) |             599 |           625 |        154 |       9 |\n",
      "| multiple sheets        |            1075 |          1076 |         18 |       6 |\n"
     ]
    }
   ],
   "source": [
    "from tabulate import tabulate\n",
    "print(tabulate(df, tablefmt=\"pipe\", headers=\"keys\", floatfmt='1.0f'))"
   ]
  },
  {
   "cell_type": "code",
   "execution_count": null,
   "metadata": {},
   "outputs": [],
   "source": []
  }
 ],
 "metadata": {
  "kernelspec": {
   "display_name": "Python 3",
   "language": "python",
   "name": "python3"
  },
  "language_info": {
   "codemirror_mode": {
    "name": "ipython",
    "version": 3
   },
   "file_extension": ".py",
   "mimetype": "text/x-python",
   "name": "python",
   "nbconvert_exporter": "python",
   "pygments_lexer": "ipython3",
   "version": "3.6.8"
  }
 },
 "nbformat": 4,
 "nbformat_minor": 2
}
