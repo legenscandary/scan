{
 "cells": [
  {
   "cell_type": "code",
   "execution_count": 1,
   "metadata": {},
   "outputs": [],
   "source": [
    "import os\n",
    "os.getcwd()\n",
    "os.chdir('./tests rpi4/scans')"
   ]
  },
  {
   "cell_type": "code",
   "execution_count": 2,
   "metadata": {},
   "outputs": [
    {
     "name": "stdout",
     "output_type": "stream",
     "text": [
      "m [258.375, 274.3333333333333, 273.25, 323.9166666666667, 311.125, 299.3333333333333, 289.5, 293.0833333333333]\n",
      "s [243.0, 322.5, 245.0, 277.5, 241.5, 292.5, 241.5, 248.0, 318.5, 244.5]\n"
     ]
    }
   ],
   "source": [
    "import glob\n",
    "docLogs = sorted(glob.glob(os.path.join(\"log\", \"*\", \"doc.log\")))\n",
    "\n",
    "def docTiming(fn):\n",
    "    timing = []\n",
    "    with open(fn) as fd:\n",
    "        timing = [l for l in fd.readlines() if l.strip().startswith(\"Processed\")]\n",
    "    if len(timing):\n",
    "        timing = timing[0].split()\n",
    "        timing = int(timing[1]), int(timing[-1].rstrip('s.'))\n",
    "    return timing\n",
    "\n",
    "single, multi = [], [] # seconds per page in single or multi sheet mode\n",
    "for fn in docLogs:\n",
    "    timing = docTiming(fn)\n",
    "    if len(timing) < 2:\n",
    "        continue\n",
    "    npages, secs = timing\n",
    "    if npages > 2:\n",
    "        multi += (secs/npages,)\n",
    "    else:\n",
    "        single += (secs/npages,)\n",
    "    #print(npages, secs)\n",
    "print(\"m\", multi)\n",
    "print(\"s\", single)"
   ]
  },
  {
   "cell_type": "code",
   "execution_count": 3,
   "metadata": {},
   "outputs": [
    {
     "data": {
      "text/html": [
       "<div>\n",
       "<style scoped>\n",
       "    .dataframe tbody tr th:only-of-type {\n",
       "        vertical-align: middle;\n",
       "    }\n",
       "\n",
       "    .dataframe tbody tr th {\n",
       "        vertical-align: top;\n",
       "    }\n",
       "\n",
       "    .dataframe thead th {\n",
       "        text-align: right;\n",
       "    }\n",
       "</style>\n",
       "<table border=\"1\" class=\"dataframe\">\n",
       "  <thead>\n",
       "    <tr style=\"text-align: right;\">\n",
       "      <th></th>\n",
       "      <th>median (secs)</th>\n",
       "      <th>mean (secs)</th>\n",
       "      <th>± (secs)</th>\n",
       "      <th>#runs</th>\n",
       "    </tr>\n",
       "  </thead>\n",
       "  <tbody>\n",
       "    <tr>\n",
       "      <th>single sheet (2 pages)</th>\n",
       "      <td>246.5</td>\n",
       "      <td>267.4</td>\n",
       "      <td>31.2</td>\n",
       "      <td>10</td>\n",
       "    </tr>\n",
       "    <tr>\n",
       "      <th>multiple sheets</th>\n",
       "      <td>291.3</td>\n",
       "      <td>290.4</td>\n",
       "      <td>20.1</td>\n",
       "      <td>8</td>\n",
       "    </tr>\n",
       "  </tbody>\n",
       "</table>\n",
       "</div>"
      ],
      "text/plain": [
       "                        median (secs)  mean (secs)  ± (secs)  #runs\n",
       "single sheet (2 pages)          246.5        267.4      31.2     10\n",
       "multiple sheets                 291.3        290.4      20.1      8"
      ]
     },
     "execution_count": 3,
     "metadata": {},
     "output_type": "execute_result"
    }
   ],
   "source": [
    "import numpy as np\n",
    "multi = np.array(multi)\n",
    "single = np.array(single)\n",
    "import pandas as pd\n",
    "arrs    = (single, multi)\n",
    "indices = ('single sheet (2 pages)', 'multiple sheets')\n",
    "lst = []\n",
    "for arr in arrs:\n",
    "    lst.append({'median (secs)': np.median(arr), 'mean (secs)': arr.mean(),\n",
    "                '\\xb1 (secs)': arr.std(), '#runs': len(arr)})\n",
    "df = pd.DataFrame(lst, index=indices, columns=lst[0].keys())\n",
    "df"
   ]
  },
  {
   "cell_type": "code",
   "execution_count": 4,
   "metadata": {},
   "outputs": [
    {
     "name": "stdout",
     "output_type": "stream",
     "text": [
      "|                        |   median (secs) |   mean (secs) |   ± (secs) |   #runs |\n",
      "|:-----------------------|----------------:|--------------:|-----------:|--------:|\n",
      "| single sheet (2 pages) |             246 |           267 |         31 |      10 |\n",
      "| multiple sheets        |             291 |           290 |         20 |       8 |\n"
     ]
    }
   ],
   "source": [
    "from tabulate import tabulate\n",
    "print(tabulate(df, tablefmt=\"pipe\", headers=\"keys\", floatfmt='1.0f'))"
   ]
  }
 ],
 "metadata": {
  "kernelspec": {
   "display_name": "Python 3",
   "language": "python",
   "name": "python3"
  },
  "language_info": {
   "codemirror_mode": {
    "name": "ipython",
    "version": 3
   },
   "file_extension": ".py",
   "mimetype": "text/x-python",
   "name": "python",
   "nbconvert_exporter": "python",
   "pygments_lexer": "ipython3",
   "version": "3.6.9"
  }
 },
 "nbformat": 4,
 "nbformat_minor": 2
}
